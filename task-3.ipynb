{
 "cells": [
  {
   "cell_type": "code",
   "execution_count": 2,
   "id": "94417891",
   "metadata": {},
   "outputs": [
    {
     "data": {
      "text/html": [
       "<div>\n",
       "<style scoped>\n",
       "    .dataframe tbody tr th:only-of-type {\n",
       "        vertical-align: middle;\n",
       "    }\n",
       "\n",
       "    .dataframe tbody tr th {\n",
       "        vertical-align: top;\n",
       "    }\n",
       "\n",
       "    .dataframe thead th {\n",
       "        text-align: right;\n",
       "    }\n",
       "</style>\n",
       "<table border=\"1\" class=\"dataframe\">\n",
       "  <thead>\n",
       "    <tr style=\"text-align: right;\">\n",
       "      <th></th>\n",
       "      <th>Age</th>\n",
       "      <th>Pclass</th>\n",
       "      <th>Fare</th>\n",
       "      <th>SibSp</th>\n",
       "      <th>Parch</th>\n",
       "    </tr>\n",
       "  </thead>\n",
       "  <tbody>\n",
       "    <tr>\n",
       "      <th>0</th>\n",
       "      <td>22.0</td>\n",
       "      <td>3</td>\n",
       "      <td>7.2500</td>\n",
       "      <td>1</td>\n",
       "      <td>0</td>\n",
       "    </tr>\n",
       "    <tr>\n",
       "      <th>1</th>\n",
       "      <td>38.0</td>\n",
       "      <td>1</td>\n",
       "      <td>71.2833</td>\n",
       "      <td>1</td>\n",
       "      <td>0</td>\n",
       "    </tr>\n",
       "    <tr>\n",
       "      <th>2</th>\n",
       "      <td>26.0</td>\n",
       "      <td>3</td>\n",
       "      <td>7.9250</td>\n",
       "      <td>0</td>\n",
       "      <td>0</td>\n",
       "    </tr>\n",
       "    <tr>\n",
       "      <th>3</th>\n",
       "      <td>35.0</td>\n",
       "      <td>1</td>\n",
       "      <td>53.1000</td>\n",
       "      <td>1</td>\n",
       "      <td>0</td>\n",
       "    </tr>\n",
       "    <tr>\n",
       "      <th>4</th>\n",
       "      <td>35.0</td>\n",
       "      <td>3</td>\n",
       "      <td>8.0500</td>\n",
       "      <td>0</td>\n",
       "      <td>0</td>\n",
       "    </tr>\n",
       "  </tbody>\n",
       "</table>\n",
       "</div>"
      ],
      "text/plain": [
       "    Age  Pclass     Fare  SibSp  Parch\n",
       "0  22.0       3   7.2500      1      0\n",
       "1  38.0       1  71.2833      1      0\n",
       "2  26.0       3   7.9250      0      0\n",
       "3  35.0       1  53.1000      1      0\n",
       "4  35.0       3   8.0500      0      0"
      ]
     },
     "execution_count": 2,
     "metadata": {},
     "output_type": "execute_result"
    }
   ],
   "source": [
    "import pandas as pd\n",
    "import numpy as np\n",
    "import matplotlib.pyplot as plt\n",
    "from sklearn.linear_model import LinearRegression\n",
    "from sklearn.model_selection import train_test_split\n",
    "from sklearn.metrics import mean_absolute_error, mean_squared_error, r2_score\n",
    "\n",
    "# Load dataset\n",
    "df = pd.read_csv(\"C:/Users/vigne/Downloads/archive (3)/Titanic-Dataset.csv\")\n",
    "df = df[['Age', 'Pclass', 'Fare', 'SibSp', 'Parch']]  # Select numeric columns\n",
    "df.dropna(inplace=True)  # Drop rows with missing values\n",
    "df.head()"
   ]
  },
  {
   "cell_type": "code",
   "execution_count": 3,
   "id": "93419494",
   "metadata": {},
   "outputs": [],
   "source": [
    "# Features and Target\n",
    "X_simple = df[['Age']]\n",
    "y_simple = df['Fare']\n",
    "\n",
    "# Train-test split\n",
    "X_train_s, X_test_s, y_train_s, y_test_s = train_test_split(X_simple, y_simple, test_size=0.2, random_state=42)\n",
    "\n",
    "# Model training\n",
    "model_simple = LinearRegression()\n",
    "model_simple.fit(X_train_s, y_train_s)\n",
    "\n",
    "# Prediction\n",
    "y_pred_s = model_simple.predict(X_test_s)"
   ]
  },
  {
   "cell_type": "code",
   "execution_count": 4,
   "id": "98a1b647",
   "metadata": {},
   "outputs": [
    {
     "name": "stdout",
     "output_type": "stream",
     "text": [
      "Simple Regression MAE: 30.05\n",
      "Simple Regression MSE: 4147.43\n",
      "Simple Regression R² Score: 0.00\n"
     ]
    }
   ],
   "source": [
    "# Evaluation metrics\n",
    "mae_s = mean_absolute_error(y_test_s, y_pred_s)\n",
    "mse_s = mean_squared_error(y_test_s, y_pred_s)\n",
    "r2_s = r2_score(y_test_s, y_pred_s)\n",
    "\n",
    "print(f\"Simple Regression MAE: {mae_s:.2f}\")\n",
    "print(f\"Simple Regression MSE: {mse_s:.2f}\")\n",
    "print(f\"Simple Regression R² Score: {r2_s:.2f}\")"
   ]
  },
  {
   "cell_type": "code",
   "execution_count": 5,
   "id": "4a6a147f",
   "metadata": {},
   "outputs": [
    {
     "data": {
      "image/png": "[encoded data removed]",
      "text/plain": [
       "<Figure size 800x600 with 1 Axes>"
      ]
     },
     "metadata": {},
     "output_type": "display_data"
    }
   ],
   "source": [
    "# Plotting regression line\n",
    "plt.figure(figsize=(8,6))\n",
    "plt.scatter(X_test_s, y_test_s, color='blue', label='Actual Fare')\n",
    "plt.plot(X_test_s, y_pred_s, color='red', linewidth=2, label='Predicted Fare')\n",
    "plt.xlabel('Age')\n",
    "plt.ylabel('Fare')\n",
    "plt.title('Simple Linear Regression: Fare vs Age')\n",
    "plt.legend()\n",
    "plt.grid(True)\n",
    "plt.show()"
   ]
  },
  {
   "cell_type": "code",
   "execution_count": 6,
   "id": "323bf03d",
   "metadata": {},
   "outputs": [
    {
     "name": "stdout",
     "output_type": "stream",
     "text": [
      "Multiple Linear Regression Coefficients: [ -0.17660283 -37.10325508   6.60004291  12.15713422]\n",
      "Intercept: 114.3042913848814\n",
      "Multiple Regression MAE: 25.18\n",
      "Multiple Regression MSE: 3424.57\n",
      "Multiple Regression R² Score: 0.18\n"
     ]
    }
   ],
   "source": [
    "# Multiple features\n",
    "X_multi = df[['Age', 'Pclass', 'SibSp', 'Parch']]\n",
    "y_multi = df['Fare']\n",
    "\n",
    "# Train-test split\n",
    "X_train_m, X_test_m, y_train_m, y_test_m = train_test_split(X_multi, y_multi, test_size=0.2, random_state=42)\n",
    "\n",
    "# Model training\n",
    "model_multi = LinearRegression()\n",
    "model_multi.fit(X_train_m, y_train_m)\n",
    "\n",
    "# Prediction\n",
    "y_pred_m = model_multi.predict(X_test_m)\n",
    "\n",
    "# Evaluation\n",
    "mae_m = mean_absolute_error(y_test_m, y_pred_m)\n",
    "mse_m = mean_squared_error(y_test_m, y_pred_m)\n",
    "r2_m = r2_score(y_test_m, y_pred_m)\n",
    "\n",
    "print(\"Multiple Linear Regression Coefficients:\", model_multi.coef_)\n",
    "print(\"Intercept:\", model_multi.intercept_)\n",
    "print(f\"Multiple Regression MAE: {mae_m:.2f}\")\n",
    "print(f\"Multiple Regression MSE: {mse_m:.2f}\")\n",
    "print(f\"Multiple Regression R² Score: {r2_m:.2f}\")"
   ]
  }
 ],
 "metadata": {
  "kernelspec": {
   "display_name": "Python 3",
   "language": "python",
   "name": "python3"
  },
  "language_info": {
   "codemirror_mode": {
    "name": "ipython",
    "version": 3
   },
   "file_extension": ".py",
   "mimetype": "text/x-python",
   "name": "python",
   "nbconvert_exporter": "python",
   "pygments_lexer": "ipython3",
   "version": "3.10.11"
  }
 },
 "nbformat": 4,
 "nbformat_minor": 5
}
